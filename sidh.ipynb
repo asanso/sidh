{
 "cells": [
  {
   "cell_type": "code",
   "execution_count": 72,
   "metadata": {
    "collapsed": false
   },
   "outputs": [
   ],
   "source": [
    "\"\"\"\n",
    "The following code has been taken from the file:\n",
    "\n",
    "  https://github.com/jack4818/Castryck-Decru-SageMath/blob/main/richelot_aux.sage\n",
    "\n",
    "which was originally used for the SageMath implementation of the Castryck-Decru\n",
    "attack, as well as the variant of the attack described by Oudompheng. See:\n",
    "\n",
    "  https://ia.cr/2022/975\n",
    "  https://www.normalesup.org/~oudomphe/textes/202208-castryck-decru-shortcut.pdf\n",
    "\n",
    "# NOTE: Many internal checks in the following functions are run as asserts.\n",
    "        These have been commented out to save unnecessary computations.\n",
    "\"\"\"\n",
    "\n",
    "from sage.all import (\n",
    "    PolynomialRing,\n",
    "    EllipticCurve,\n",
    "    HyperellipticCurve,\n",
    "    Matrix,\n",
    "    vector,\n",
    "    ZZ,\n",
    "    set_verbose\n",
    ")\n",
    "\n",
    "set_verbose(-1)\n",
    "\n",
    "def FromProdToJac(C, E, P_c, Q_c, P, Q, a):\n",
    "    \"\"\"\n",
    "    Compact explicit formula for the gluing\n",
    "    isogeny is derived in\n",
    "    https://ia.cr/2022/1283\n",
    "    \"\"\"\n",
    "    Fp2 = C.base()\n",
    "    Rx = PolynomialRing(Fp2, name=\"x\")\n",
    "    x = Rx.gens()[0]\n",
    "\n",
    "    P_c2 = 2**(a-1)*P_c\n",
    "    Q_c2 = 2**(a-1)*Q_c\n",
    "    P2 = 2**(a-1)*P\n",
    "    Q2 = 2**(a-1)*Q\n",
    "\n",
    "    a1, a2, a3 = P_c2[0], Q_c2[0], (P_c2 + Q_c2)[0]\n",
    "    b1, b2, b3 = P2[0], Q2[0], (P2 + Q2)[0]\n",
    "\n",
    "    # Compute coefficients\n",
    "    M = Matrix(Fp2, [\n",
    "        [a1*b1, a1, b1],\n",
    "        [a2*b2, a2, b2],\n",
    "        [a3*b3, a3, b3]])\n",
    "    R, S, T = M.inverse() * vector(Fp2, [1,1,1])\n",
    "    RD = R * M.determinant()\n",
    "    da = (a1 - a2)*(a2 - a3)*(a3 - a1)\n",
    "    db = (b1 - b2)*(b2 - b3)*(b3 - b1)\n",
    "\n",
    "    s1, t1 = - da / RD, db / RD\n",
    "    s2, t2 = -T/R, -S/R\n",
    "\n",
    "    a1_t = (a1 - s2) / s1\n",
    "    a2_t = (a2 - s2) / s1\n",
    "    a3_t = (a3 - s2) / s1\n",
    "    h = s1 * (x**2 - a1_t) * (x**2 - a2_t) * (x**2 - a3_t)\n",
    "\n",
    "    H = HyperellipticCurve(h)\n",
    "    J = H.jacobian()\n",
    "\n",
    "    # We need the image of (P_c, P) and (Q_c, Q) in J\n",
    "    # The image of (P_c, P) is the image of P_c as a divisor on H\n",
    "    # plus the image of P as a divisor on H.\n",
    "    # This allows for direct computation without solving equations\n",
    "    # as in Castryck-Decru's paper.\n",
    "\n",
    "    def isogeny(pair):\n",
    "        # Argument members may be None to indicate the zero point.\n",
    "\n",
    "        # The projection maps are:\n",
    "        # H->C: (xC = s1/x²+s2, yC = s1 y)\n",
    "        # so we compute Mumford coordinates of the divisor f^-1(P_c): a(x), y-b(x)\n",
    "        Pc, P = pair\n",
    "        if Pc:\n",
    "            xPc, yPc = Pc.xy()\n",
    "            JPc = J([s1 * x**2 + s2 - xPc, Rx(yPc / s1)])\n",
    "        # Same for E\n",
    "        # H->E: (xE = t1 x² + t2, yE = t1 y/x^3)\n",
    "        if P:\n",
    "            xP, yP = P.xy()\n",
    "            JP = J([(xP - t2) * x**2 - t1, yP * x**3 / t1])\n",
    "        if Pc and P:\n",
    "            return JPc + JP\n",
    "        if Pc:\n",
    "            return JPc\n",
    "        if P:\n",
    "            return JP\n",
    "\n",
    "    imPcP = isogeny((P_c, P))\n",
    "    imQcQ = isogeny((Q_c, Q))\n",
    "\n",
    "    return h, imPcP[0], imPcP[1], imQcQ[0], imQcQ[1], isogeny\n",
    "\n",
    "class RichelotCorr:\n",
    "    \"\"\"\n",
    "    The Richelot correspondance between hyperelliptic\n",
    "    curves y²=g1*g2*g3 and y²=h1*h2*h3=hnew(x)\n",
    "\n",
    "    It is defined by equations:\n",
    "        g1(x1) h1(x2) + g2(x1) h2(x2) = 0\n",
    "    and y1 y2 = g1(x1) h1(x2) (x1 - x2)\n",
    "\n",
    "    Given a divisor D in Mumford coordinates:\n",
    "        U(x) = x^2 + u1 x + u0 = 0\n",
    "        y = V(x) = v1 x + v0\n",
    "    Let xa and xb be the symbolic roots of U.\n",
    "    Let s, p by the sum and product (s=-u1, p=u0)\n",
    "\n",
    "    Then on x-coordinates, the image of D is defined by equation:\n",
    "        (g1(xa) h1(x) + g2(xa) h2(x))\n",
    "      * (g1(xb) h1(x) + g2(xb) h2(x))\n",
    "    which is a symmetric function of xa and xb.\n",
    "    This is a non-reduced polynomial of degree 4.\n",
    "\n",
    "    Write gred = g-U = g1*x + g0\n",
    "    then gred(xa) gred(xb) = g1^2*p + g1*g0*s + g0^2\n",
    "    and  g1red(xa) g2red(xb) + g1red(xb) g2red(xa)\n",
    "       = 2 g11 g21 p + (g11*g20+g10*g21) s + 2 g10*g20\n",
    "\n",
    "    On y-coordinates, the image of D is defined by equations:\n",
    "           V(xa) y = Gred1(xa) h1(x) (xa - x)\n",
    "        OR V(xb) y = Gred1(xb) h1(x) (xb - x)\n",
    "    If we multiply:\n",
    "    * y^2 has coefficient V(xa)V(xb)\n",
    "    * y has coefficient h1(x) * (V(xa) Gred1(xb) (x-xb) + V(xb) Gred1(xa) (x-xa))\n",
    "      (x-degree 3)\n",
    "    * 1 has coefficient Gred1(xa) Gred1(xb) h1(x)^2 (x-xa)(x-xb)\n",
    "                      = Gred1(xa) Gred1(xb) h1(x)^2 U(x)\n",
    "      (x-degree 4)\n",
    "    \"\"\"\n",
    "    def __init__(self, G1, G2, H1, H2, hnew):\n",
    "        # assert G1[2].is_one() and G2[2].is_one()\n",
    "        self.G1 = G1\n",
    "        self.G2 = G2\n",
    "        self.H1 = H1\n",
    "        self.H11 = H1*H1\n",
    "        self.H12 = H1*H2\n",
    "        self.H22 = H2*H2\n",
    "        self.hnew = hnew\n",
    "        self.x = hnew.parent().gen()\n",
    "\n",
    "    def map(self, D):\n",
    "        \"Computes (non-monic) Mumford coordinates for the image of D\"\n",
    "        U, V = D\n",
    "        if not U[2].is_one():\n",
    "            U = U / U[2]\n",
    "        V = V  % U\n",
    "        # Sum and product of (xa, xb)\n",
    "        s, p = -U[1], U[0]\n",
    "        # Compute X coordinates (non reduced, degree 4)\n",
    "        g1red = self.G1 - U\n",
    "        g2red = self.G2 - U\n",
    "        # assert g1red[2].is_zero() and g2red[2].is_zero()\n",
    "        g11, g10 = g1red[1], g1red[0]\n",
    "        g21, g20 = g2red[1], g2red[0]\n",
    "        # see above\n",
    "        Px = (g11*g11*p + g11*g10*s + g10*g10) * self.H11 \\\n",
    "           + (2*g11*g21*p + (g11*g20+g21*g10)*s + 2*g10*g20) * self.H12 \\\n",
    "           + (g21*g21*p + g21*g20*s + g20*g20) * self.H22\n",
    "\n",
    "        # Compute Y coordinates (non reduced, degree 3)\n",
    "        # assert V[2].is_zero()\n",
    "        v1, v0 = V[1], V[0]\n",
    "        # coefficient of y^2 is V(xa)V(xb)\n",
    "        Py2 = v1*v1*p + v1*v0*s + v0*v0\n",
    "        # coefficient of y is h1(x) * (V(xa) Gred1(xb) (x-xb) + V(xb) Gred1(xa) (x-xa))\n",
    "        # so we need to symmetrize:\n",
    "        # V(xa) Gred1(xb) (x-xb)\n",
    "        # = (v1*xa+v0)*(g11*xb+g10)*(x-xb)\n",
    "        # = (v1*g11*p + v1*g10*xa + v0*g11*xb + v0*g10)*x\n",
    "        # - xb*(v1*g11*p + v1*g10*xa + v0*g11*xb + v0*g10)\n",
    "        # Symmetrizing xb^2 gives u1^2-2*u0\n",
    "        Py1 = (2*v1*g11*p + v1*g10*s + v0*g11*s + 2*v0*g10)*self.x \\\n",
    "          - (v1*g11*s*p + 2*v1*g10*p + v0*g11*(s*s-2*p) + v0*g10*s)\n",
    "        Py1 *= self.H1\n",
    "        # coefficient of 1 is Gred1(xa) Gred1(xb) h1(x)^2 U(x)\n",
    "        Py0 = self.H11 * U * (g11*g11*p + g11*g10*s + g10*g10)\n",
    "\n",
    "        # Now reduce the divisor, and compute Cantor reduction.\n",
    "        # Py2 * y^2 + Py1 * y + Py0 = 0\n",
    "        # y = - (Py2 * hnew + Py0) / Py1\n",
    "        _, Py1inv, _ = Py1.xgcd(Px)\n",
    "        Py = (- Py1inv * (Py2 * self.hnew + Py0)) % Px\n",
    "        # assert Px.degree() == 4\n",
    "        # assert Py.degree() <= 3\n",
    "\n",
    "        Dx = ((self.hnew - Py ** 2) // Px)\n",
    "        Dy = (-Py) % Dx\n",
    "        return (Dx, Dy)\n",
    "\n",
    "def jacobian_double(h, u, v):\n",
    "    \"\"\"\n",
    "    Computes the double of a jacobian point (u,v)\n",
    "    given by Mumford coordinates: except that u is not required\n",
    "    to be monic, to avoid redundant reduction during repeated doubling.\n",
    "\n",
    "    See SAGE cantor_composition() and cantor_reduction\n",
    "    \"\"\"\n",
    "    # assert u.degree() == 2\n",
    "    # Replace u by u^2\n",
    "    # Compute h3 the inverse of 2*v modulo u\n",
    "    # Replace v by (v + h3 * (h - v^2)) % u\n",
    "    q, r = u.quo_rem(2*v)\n",
    "    if r[0] == 0: # gcd(u, v) = v, very improbable\n",
    "        a = q**2\n",
    "        b = (v + (h - v**2) // v) % a\n",
    "        return a, b\n",
    "    else: # gcd(u, v) = 1\n",
    "        h3 = 1 / (-r[0]) * q\n",
    "        a = u*u\n",
    "        b = (v + h3 * (h - v**2)) % a\n",
    "        # Cantor reduction\n",
    "        Dx = (h - b**2) // a\n",
    "        Dy = (-b) % Dx\n",
    "        return Dx, Dy\n",
    "\n",
    "def jacobian_iter_double(h, u, v, n):\n",
    "    for _ in range(n):\n",
    "        u, v = jacobian_double(h, u, v)\n",
    "    return u.monic(), v\n",
    "\n",
    "def FromJacToJac(h, D11, D12, D21, D22, a, powers=None):\n",
    "    # power is an optional list of precomputed tuples\n",
    "    # (l, 2^l D1, 2^l D2) where l < a are increasing\n",
    "    R,x = h.parent().objgen()\n",
    "    Fp2 = R.base()\n",
    "\n",
    "    D1 = (D11, D12)\n",
    "    D2 = (D21, D22)\n",
    "\n",
    "    next_powers = None\n",
    "    if not powers:\n",
    "        # Precompute some powers of D1, D2 to save computations later.\n",
    "        # We are going to perform O(a^1.5) squarings instead of O(a^2)\n",
    "        if a >= 16:\n",
    "            gap = ZZ(a).isqrt()\n",
    "            doubles = [(0, D1, D2)]\n",
    "            _D1, _D2 = D1, D2\n",
    "            for i in range(a-1):\n",
    "                _D1 = jacobian_double(h, _D1[0], _D1[1])\n",
    "                _D2 = jacobian_double(h, _D2[0], _D2[1])\n",
    "                doubles.append((i+1, _D1, _D2))\n",
    "            _, (G1, _), (G2, _) = doubles[a-1]\n",
    "            G1, G2 = G1.monic(), G2.monic()\n",
    "            next_powers = [doubles[a-2*gap], doubles[a-gap]]\n",
    "        else:\n",
    "            G1, _ = jacobian_iter_double(h, D1[0], D1[1], a-1)\n",
    "            G2, _ = jacobian_iter_double(h, D2[0], D2[1], a-1)\n",
    "    else:\n",
    "        (l, _D1, _D2) = powers[-1]\n",
    "        if a >= 16:\n",
    "            next_powers = powers if l < a-1 else powers[:-1]\n",
    "        G1, _ = jacobian_iter_double(h, _D1[0], _D1[1], a-1-l)\n",
    "        G2, _ = jacobian_iter_double(h, _D2[0], _D2[1], a-1-l)\n",
    "\n",
    "    # assert 2^a*D1 == 0\n",
    "    # assert 2^a*D2 == 0\n",
    "    G3, r3 = h.quo_rem(G1 * G2)\n",
    "    # assert r3 == 0\n",
    "\n",
    "    delta = Matrix(G.padded_list(3) for G in (G1,G2,G3))\n",
    "    # H1 = 1/det (G2[1]*G3[0] - G2[0]*G3[1])\n",
    "    #        +2x (G2[2]*G3[0] - G3[2]*G2[0])\n",
    "    #        +x^2(G2[1]*G3[2] - G3[1]*G2[2])\n",
    "    # The coefficients correspond to the inverse matrix of delta.\n",
    "    delta = delta.inverse()\n",
    "    H1 = -delta[0][0]*x**2 + 2*delta[1][0]*x - delta[2][0]\n",
    "    H2 = -delta[0][1]*x**2 + 2*delta[1][1]*x - delta[2][1]\n",
    "    H3 = -delta[0][2]*x**2 + 2*delta[1][2]*x - delta[2][2]\n",
    "\n",
    "    hnew = H1*H2*H3\n",
    "\n",
    "    # Now compute image points: Richelot isogeny is defined by the degree 2\n",
    "    R = RichelotCorr(G1, G2, H1, H2, hnew)\n",
    "\n",
    "    imD1 = R.map(D1)\n",
    "    imD2 = R.map(D2)\n",
    "\n",
    "    if next_powers:\n",
    "        next_powers = [(l, R.map(_D1), R.map(_D2))\n",
    "            for l, _D1, _D2 in next_powers]\n",
    "    return hnew, imD1[0], imD1[1], imD2[0], imD2[1], R.map, next_powers\n",
    "\n",
    "def FromJacToProd(G1, G2, G3):\n",
    "    \"\"\"\n",
    "    Construct the \"split\" isogeny from Jac(y^2 = G1*G2*G3)\n",
    "    to a product of elliptic curves.\n",
    "\n",
    "    This computation is the same as Benjamin Smith\n",
    "    see 8.3 in http://iml.univ-mrs.fr/~kohel/phd/thesis_smith.pdf\n",
    "    \"\"\"\n",
    "    h = G1*G2*G3\n",
    "    R = h.parent()\n",
    "    Fp2 = R.base()\n",
    "    x = R.gen()\n",
    "\n",
    "    M = Matrix(G.padded_list(3) for G in (G1,G2,G3))\n",
    "    # Find homography\n",
    "    u, v, w = M.right_kernel().gen()\n",
    "    d = u/2\n",
    "    (ad, _), (b, _) = (x**2 - v*x + w*d/2).roots()\n",
    "    a = ad/d\n",
    "\n",
    "    # Apply transform G(x) -> G((a*x+b)/(x+d))*(x+d)^2\n",
    "    # The coefficients of x^2 are M * (1, a, a^2)\n",
    "    # The coefficients of 1 are M * (d^2, b*d, b^2)\n",
    "    H11, H21, H31 = M * vector([1, a, a*a])\n",
    "    H10, H20, H30 = M * vector([d*d, b*d, b*b])\n",
    "    # assert G1((a*x+b)/(x+d))*(x+d)**2 == H11*x^2+H10\n",
    "\n",
    "    h2 = (H11*x**2+H10)*(H21*x**2+H20)*(H31*x**2+H30)\n",
    "    H2 = HyperellipticCurve(h2)\n",
    "\n",
    "    p1 = (H11*x+H10)*(H21*x+H20)*(H31*x+H30)\n",
    "    p2 = (H11+H10*x)*(H21+H20*x)*(H31+H30*x)\n",
    "    # We will need to map to actual elliptic curve\n",
    "    p1norm = (x + H10*H21*H31)*(x + H20*H11*H31)*(x + H30*H11*H21)\n",
    "    p2norm = (x + H11*H20*H30)*(x + H21*H10*H30)*(x + H31*H10*H20)\n",
    "    E1 = EllipticCurve([0, p1norm[2], 0, p1norm[1], p1norm[0]])\n",
    "    E2 = EllipticCurve([0, p2norm[2], 0, p2norm[1], p2norm[0]])\n",
    "\n",
    "    def morphE1(x, y):\n",
    "        # from y^2=p1 to y^2=p1norm\n",
    "        return (H11*H21*H31*x, H11*H21*H31*y)\n",
    "    def morphE2(x, y):\n",
    "        # from y^2=p1 to y^2=p2norm\n",
    "        return (H10*H20*H30*x, H10*H20*H30*y)\n",
    "    # The morphisms are:\n",
    "    # inverse homography:\n",
    "    # H->H2: x, y => ((b-dx) / (x-a), y/(x-a)^3)\n",
    "    # then H2->E1:(x,y) => (x^2,y)\n",
    "    #   or H2->E2:(x,y) => (1/x^2,y/x^3)\n",
    "\n",
    "    def isogeny(D):\n",
    "        HyperellipticCurve(h).jacobian()(D)\n",
    "        # To map a divisor, perform the change of coordinates\n",
    "        # on Mumford coordinates\n",
    "        U, V = D\n",
    "        # apply homography\n",
    "        # y = v1 x + v0 =>\n",
    "        U_ = U[0] * (x+d)**2 + U[1]*(a*x+b)*(x+d) + U[2]*(a*x+b)**2\n",
    "        V_ = V[0] * (x+d)**3 + V[1]*(a*x+b)*(x+d)**2\n",
    "        V_ = V_ % U_\n",
    "        v1, v0 = V_[1], V_[0]\n",
    "        # prepare symmetric functions\n",
    "        s = - U_[1] / U_[2]\n",
    "        p = U_[0] / U_[2]\n",
    "        # compute Mumford coordinates on E1\n",
    "        # Points x1, x2 map to x1^2, x2^2\n",
    "        U1 = x**2 - (s*s - 2*p)*x + p**2\n",
    "        # y = v1 x + v0 becomes (y - v0)^2 = v1^2 x^2\n",
    "        # so 2v0 y-v0^2 = p1 - v1^2 xH^2 = p1 - v1^2 xE1\n",
    "        V1 = (p1 - v1**2 * x + v0**2) / (2*v0)\n",
    "        # Reduce Mumford coordinates to get a E1 point\n",
    "        V1 = V1 % U1\n",
    "        U1red = (p1 - V1**2) // U1\n",
    "        xP1 = -U1red[0] / U1red[1]\n",
    "        yP1 = V1(xP1)\n",
    "        # assert yP1**2 == p1(xP1)\n",
    "        # Same for E2\n",
    "        # Points x1, x2 map to 1/x1^2, 1/x2^2\n",
    "        U2 = x**2 - (s*s-2*p)/p**2*x + 1/p**2\n",
    "        # yE = y1/x1^3, xE = 1/x1^2\n",
    "        # means yE = y1 x1 xE^2\n",
    "        # (yE - y1 x1 xE^2)(yE - y2 x2 xE^2) = 0\n",
    "        # p2 - yE (x1 y1 + x2 y2) xE^2 + (x1 y1 x2 y2 xE^4) = 0\n",
    "        V21 = x**2 * (v1 * (s*s-2*p) + v0*s)\n",
    "        V20 = p2 + x**4 * (p*(v1**2*p + v1*v0*s + v0**2))\n",
    "        # V21 * y = V20\n",
    "        _, V21inv, _ = V21.xgcd(U2)\n",
    "        V2 = (V21inv * V20) % U2\n",
    "        # assert V2**2 % U2 == p2 % U2\n",
    "        # Reduce coordinates\n",
    "        U2red = (p2 - V2**2) // U2\n",
    "        xP2 = -U2red[0] / U2red[1]\n",
    "        yP2 = V2(xP2)\n",
    "        # assert yP2**2 == p2(xP2)\n",
    "\n",
    "        return E1(morphE1(xP1, yP1)), E2(morphE2(xP2, yP2))\n",
    "\n",
    "    return isogeny, (E1, E2)\n",
    "\n",
    "def Does22ChainSplit(C, E, P_c, Q_c, P, Q, a):\n",
    "    \"\"\"\n",
    "    Returns None if the chain does not split\n",
    "    or a tuple (chain of isogenies, codomain (E1, E2))\n",
    "    \"\"\"\n",
    "    chain = []\n",
    "    # gluing step\n",
    "    h, D11, D12, D21, D22, f = FromProdToJac(C, E, P_c, Q_c, P, Q, a)\n",
    "    chain.append(f)\n",
    "\n",
    "    next_powers = None\n",
    "    # print(f\"order 2^{a-1} on hyp curve ...\")\n",
    "    for i in range(1,a-2+1):\n",
    "        h, D11, D12, D21, D22, f, next_powers = FromJacToJac(\n",
    "            h, D11, D12, D21, D22, a-i, powers=next_powers)\n",
    "        chain.append(f)\n",
    "\n",
    "    # now we are left with a quadratic splitting: is it singular?\n",
    "    G1 = D11\n",
    "    G2 = D21\n",
    "    G3, r3 = h.quo_rem(G1 * G2)\n",
    "    # assert r3 == 0\n",
    "\n",
    "    delta = Matrix(G.padded_list(3) for G in (G1,G2,G3))\n",
    "    if delta.determinant():\n",
    "        # Determinant is non-zero, no splitting\n",
    "        return None, None\n",
    "\n",
    "    # Splitting found!\n",
    "    # Finish chain\n",
    "    f, codomain = FromJacToProd(G1, G2, G3)\n",
    "    chain.append(f)\n",
    "    return chain, codomain\n"
   ]
  },
  {
   "cell_type": "markdown",
   "metadata": {
    "collapsed": false
   },
   "source": [
    "## <span style='font-size:x-large'>**Public parameters**</span>\n",
    "\n"
   ]
  },
  {
   "cell_type": "code",
   "execution_count": 73,
   "metadata": {
    "collapsed": false
   },
   "outputs": [
    {
     "data": {
      "text/plain": [
       "True"
      ]
     },
     "execution_count": 73,
     "metadata": {
     },
     "output_type": "execute_result"
    }
   ],
   "source": [
    "p = 2^8*3^5 - 1\n",
    "p.is_prime()"
   ]
  },
  {
   "cell_type": "code",
   "execution_count": 74,
   "metadata": {
    "collapsed": false
   },
   "outputs": [
    {
     "data": {
      "text/plain": [
       "Finite Field in i of size 62207^2"
      ]
     },
     "execution_count": 74,
     "metadata": {
     },
     "output_type": "execute_result"
    }
   ],
   "source": [
    "_.<I> = GF(p)[]\n",
    "K.<i> = GF(p^2, modulus=I^2+1)\n",
    "K"
   ]
  },
  {
   "cell_type": "code",
   "execution_count": 75,
   "metadata": {
    "collapsed": false
   },
   "outputs": [
    {
     "data": {
      "text/plain": [
       "Elliptic Curve defined by y^2 = x^3 + x over Finite Field in i of size 62207^2"
      ]
     },
     "execution_count": 75,
     "metadata": {
     },
     "output_type": "execute_result"
    }
   ],
   "source": [
    "E0 = EllipticCurve(K, [1, 0])\n",
    "E0"
   ]
  },
  {
   "cell_type": "markdown",
   "metadata": {
    "collapsed": false
   },
   "source": [
    "## **2^8\\-torsion generators**\n",
    "\n"
   ]
  },
  {
   "cell_type": "code",
   "execution_count": 76,
   "metadata": {
    "collapsed": false
   },
   "outputs": [
    {
     "data": {
      "text/plain": [
       "(11648*i + 50383 : 2985*i + 11322 : 1)"
      ]
     },
     "execution_count": 76,
     "metadata": {
     },
     "output_type": "execute_result"
    }
   ],
   "source": [
    "Pb = E0(0)\n",
    "while (2^7)*Pb == 0:\n",
    "    Pb = 3^5 * E0.random_point()\n",
    "Pb"
   ]
  },
  {
   "cell_type": "code",
   "execution_count": 77,
   "metadata": {
    "collapsed": false
   },
   "outputs": [
    {
     "data": {
      "text/plain": [
       "(9804*i + 20795 : 34199*i + 12752 : 1)"
      ]
     },
     "execution_count": 77,
     "metadata": {
     },
     "output_type": "execute_result"
    }
   ],
   "source": [
    "Qb = Pb\n",
    "while Pb.weil_pairing(Qb, 2^8)^(2^7) == 1:\n",
    "    Qb = 3^5 * E0.random_point()\n",
    "Qb"
   ]
  },
  {
   "cell_type": "markdown",
   "metadata": {
    "collapsed": false
   },
   "source": [
    "## **3^5\\-torsion generators**\n",
    "\n"
   ]
  },
  {
   "cell_type": "code",
   "execution_count": 78,
   "metadata": {
    "collapsed": false
   },
   "outputs": [
    {
     "data": {
      "text/plain": [
       "(33428*i + 8170 : 4547*i + 53460 : 1)"
      ]
     },
     "execution_count": 78,
     "metadata": {
     },
     "output_type": "execute_result"
    }
   ],
   "source": [
    "Pa = E0(0)\n",
    "while (3^4)*Pa == 0:\n",
    "    Pa = 2^8 * E0.random_point()\n",
    "Pa"
   ]
  },
  {
   "cell_type": "code",
   "execution_count": 79,
   "metadata": {
    "collapsed": false
   },
   "outputs": [
    {
     "data": {
      "text/plain": [
       "(19368*i + 34296 : 9169*i + 57938 : 1)"
      ]
     },
     "execution_count": 79,
     "metadata": {
     },
     "output_type": "execute_result"
    }
   ],
   "source": [
    "Qa = Pa\n",
    "while Pa.weil_pairing(Qa, 3^5)^(3^4) == 1:\n",
    "    Qa = 2^8 * E0.random_point()\n",
    "Qa"
   ]
  },
  {
   "cell_type": "markdown",
   "metadata": {
    "collapsed": false
   },
   "source": [
    "## **Alice**\n",
    "\n"
   ]
  },
  {
   "cell_type": "code",
   "execution_count": 80,
   "metadata": {
    "collapsed": false
   },
   "outputs": [
    {
     "data": {
      "text/plain": [
       "108"
      ]
     },
     "execution_count": 80,
     "metadata": {
     },
     "output_type": "execute_result"
    }
   ],
   "source": [
    "Sa = randint(0, 3^5-1)\n",
    "Sa\n"
   ]
  },
  {
   "cell_type": "code",
   "execution_count": 81,
   "metadata": {
    "collapsed": false
   },
   "outputs": [
    {
     "data": {
      "text/plain": [
       "(8344*i + 10297 : 43278*i + 57201 : 1)"
      ]
     },
     "execution_count": 81,
     "metadata": {
     },
     "output_type": "execute_result"
    }
   ],
   "source": [
    "R = Pa + Sa * Qa\n",
    "R"
   ]
  },
  {
   "cell_type": "code",
   "execution_count": 93,
   "metadata": {
    "collapsed": false
   },
   "outputs": [
   ],
   "source": [
    "phiA = E0.isogeny(R)\n",
    "EA = phiA.codomain()\n",
    "phiPb = phiA(Pb)\n",
    "phiQb = phiA(Qb)\n",
    "# random 3^5 basis in EA\n",
    "PA,QA =  EA.gens()\n",
    "PA  = 2^8*PA\n",
    "QA  = 2^8*QA"
   ]
  },
  {
   "cell_type": "markdown",
   "metadata": {
    "collapsed": false
   },
   "source": [
    "## **Direct Attack**\n",
    "\n"
   ]
  },
  {
   "cell_type": "code",
   "execution_count": 94,
   "metadata": {
    "collapsed": false
   },
   "outputs": [
   ],
   "source": [
    "# E is the domain of the f-isogeny varphi_f : E -> E0\n",
    "f = 2^8 - 3^5\n",
    "phi_f = E0.isogenies_prime_degree(f)[0].dual()\n",
    "E = phi_f.domain()"
   ]
  },
  {
   "cell_type": "code",
   "execution_count": 95,
   "metadata": {
    "collapsed": false
   },
   "outputs": [
   ],
   "source": [
    "# Algorithm 1 step 1\n",
    "c = f^-1 % 2^8"
   ]
  },
  {
   "cell_type": "code",
   "execution_count": 96,
   "metadata": {
    "collapsed": false
   },
   "outputs": [
   ],
   "source": [
    "# Algorithm 1 step 2\n",
    "Pb2 = c*phi_f.dual()(Pb)\n",
    "Qb2 = c*phi_f.dual()(Qb)"
   ]
  },
  {
   "cell_type": "code",
   "execution_count": 102,
   "metadata": {
    "collapsed": false
   },
   "outputs": [
   ],
   "source": [
    "# Algorithm 1 step 3\n",
    "chain, codomain = Does22ChainSplit(E, EA, 3^5*Pb2,  3^5*Qb2, phiPb,  phiQb, 8)\n",
    "# Checking if the isomorphism swapped the curves in the codomain\n",
    "index = -1\n",
    "if codomain[0].j_invariant() == E0.j_invariant():\n",
    "    index = 0\n",
    "else:\n",
    "    index = 1\n",
    "assert index != -1\n",
    "E0t = codomain[index]"
   ]
  },
  {
   "cell_type": "code",
   "execution_count": 103,
   "metadata": {
    "collapsed": false
   },
   "outputs": [
   ],
   "source": [
    "# Algorithm 1 step 4\n",
    "# Map the points using the computed isogeny chain\n",
    "imPAA = (E(0), PA)\n",
    "for f in chain:\n",
    "    imPAA = f(imPAA)"
   ]
  },
  {
   "cell_type": "code",
   "execution_count": 133,
   "metadata": {
    "collapsed": false
   },
   "outputs": [
   ],
   "source": [
    "# Algorithm 1 step 5\n",
    "if not (3^4 * imPAA[index]).is_zero() and (3^5 * imPAA[index]).is_zero():\n",
    "    assert imPAA[index].curve().j_invariant() == E0.j_invariant()\n",
    "    assert imPAA[index].curve().isogeny(imPAA[index]).codomain().j_invariant() == EA.j_invariant()\n",
    "    print(\"A generator of ker(phiA) is %\",imPAA)\n"
   ]
  },
  {
   "cell_type": "code",
   "execution_count": 134,
   "metadata": {
    "collapsed": false
   },
   "outputs": [
    {
     "name": "stdout",
     "output_type": "stream",
     "text": [
      "A generator of ker(phiA) is % ((19455*i + 30818 : 35789*i + 18377 : 1), (23392*i + 48446 : 59445*i + 39261 : 1))\n"
     ]
    }
   ],
   "source": [
    "# Algorithm 1 step 6\n",
    "# Map the points using the computed isogeny chain\n",
    "imQAA = (E(0), QA)\n",
    "for f in chain:\n",
    "    imQAA = f(imQAA)\n",
    "if not (3^4 * imQAA[index]).is_zero() and (3^5 * imPAA[index]).is_zero():\n",
    "    assert imQAA[index].curve().j_invariant() == E0.j_invariant()\n",
    "    assert imQAA[index].curve().isogeny(imQAA[index]).codomain().j_invariant() == EA.j_invariant()\n",
    "    print(\"A generator of ker(phiA) is %\",imQAA)"
   ]
  },
  {
   "cell_type": "code",
   "execution_count": 136,
   "metadata": {
    "collapsed": false
   },
   "outputs": [
    {
     "name": "stdout",
     "output_type": "stream",
     "text": [
      "Algorithm 1 failed!!!\n"
     ]
    }
   ],
   "source": [
    "print(\"Algorithm 1 failed!!!\")"
   ]
  },
  {
   "cell_type": "code",
   "execution_count": 0,
   "metadata": {
    "collapsed": false
   },
   "outputs": [
   ],
   "source": [
   ]
  }
 ],
 "metadata": {
  "kernelspec": {
   "argv": [
    "sage-9.1",
    "--python",
    "-m",
    "sage.repl.ipython_kernel",
    "--matplotlib=inline",
    "-f",
    "{connection_file}"
   ],
   "display_name": "SageMath 9.1",
   "env": {
   },
   "language": "sagemath",
   "metadata": {
    "cocalc": {
     "description": "Open-source mathematical software system",
     "priority": 10,
     "url": "https://www.sagemath.org/"
    }
   },
   "name": "sage-9.1",
   "resource_dir": "/ext/jupyter/kernels/sage-9.1"
  },
  "language_info": {
   "codemirror_mode": {
    "name": "ipython",
    "version": 3
   },
   "file_extension": ".py",
   "mimetype": "text/x-python",
   "name": "python",
   "nbconvert_exporter": "python",
   "pygments_lexer": "ipython3",
   "version": "3.7.3"
  }
 },
 "nbformat": 4,
 "nbformat_minor": 4
}